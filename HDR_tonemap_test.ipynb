{
 "cells": [
  {
   "cell_type": "code",
   "execution_count": 13,
   "metadata": {},
   "outputs": [],
   "source": [
    "%matplotlib inline\n",
    "import numpy as np\n",
    "import matplotlib.pyplot as plt\n",
    "import hdr_utils\n",
    "from scipy.stats import gmean,cumfreq\n",
    "import colour"
   ]
  },
  {
   "cell_type": "code",
   "execution_count": 29,
   "metadata": {},
   "outputs": [
    {
     "name": "stdout",
     "output_type": "stream",
     "text": [
      "0.98999995\n"
     ]
    },
    {
     "data": {
      "text/plain": [
       "[<matplotlib.lines.Line2D at 0x7f83832cd9d0>]"
      ]
     },
     "execution_count": 29,
     "metadata": {},
     "output_type": "execute_result"
    },
    {
     "data": {
      "image/png": "[encoded data removed]",
      "text/plain": [
       "<Figure size 432x288 with 1 Axes>"
      ]
     },
     "metadata": {
      "needs_background": "light"
     },
     "output_type": "display_data"
    }
   ],
   "source": [
    "input_arr = np.arange(1,100).astype(np.float32)\n",
    "exp = 0.01\n",
    "exp_inp = exp*input_arr\n",
    "out = hdr_utils.tonemap(input_arr,'aces',exp)\n",
    "out = out**(1/2.2)\n",
    "plt.plot(np.log(exp_inp),out)"
   ]
  },
  {
   "cell_type": "code",
   "execution_count": 14,
   "metadata": {},
   "outputs": [],
   "source": [
    "h = 2160\n",
    "w = 3840\n",
    "alpha_A = 0.98\n",
    "alpha_B = 0.98\n",
    "alpha_a = 0.98\n",
    "\n",
    "max_C = h*w\n",
    "beta = 0.999\n",
    "B_upper = beta*max_C\n",
    "B_lower = (1-beta)*max_C\n",
    "hdr_range = np.arange(0,1024)\n",
    "input_file = '../../hdr_videos/cut_vids/acropolis_104.yuv'"
   ]
  },
  {
   "cell_type": "code",
   "execution_count": 15,
   "metadata": {},
   "outputs": [],
   "source": [
    "y,u,v= hdr_utils.hdr_yuv_read(input_file,1,h,w)\n",
    "\n",
    "# convert to RGB in BT2020\n",
    "rgb_bt2020_pq = hdr_utils.yuv2rgb_bt2020(y,u,v)\n",
    "rgb_bt2020_pq = np.clip(rgb_bt2020_pq.astype(np.float32),0,1024)/1024.0\n",
    "\n",
    "# linearize\n",
    "rgb_bt2020_linear = colour.models.eotf_PQ_BT2100(rgb_bt2020_pq)\n",
    "\n",
    "# clip luminance to 100 nits\n",
    "rgb_bt2020_linear_clipped = np.clip(rgb_bt2020_linear,0,300)\n",
    "\n",
    "# convert to BT709\n",
    "rgb_bt709_linear = colour.RGB_to_RGB(rgb_bt2020_linear,colour.models.RGB_COLOURSPACE_BT2020,colour.models.RGB_COLOURSPACE_BT709)\n",
    "\n",
    "# find linear luminance\n",
    "y_bt709_linear = 0.2126*rgb_bt2020_linear[:,:,0]+0.7152*rgb_bt2020_linear[:,:,1]+0.0722*rgb_bt2020_linear[:,:,2] \n"
   ]
  },
  {
   "cell_type": "code",
   "execution_count": 17,
   "metadata": {},
   "outputs": [
    {
     "name": "stdout",
     "output_type": "stream",
     "text": [
      "858.897661941 0.0493321740031\n"
     ]
    },
    {
     "data": {
      "text/plain": [
       "[<matplotlib.lines.Line2D at 0x7fddc5137fd0>]"
      ]
     },
     "execution_count": 17,
     "metadata": {},
     "output_type": "execute_result"
    },
    {
     "data": {
      "image/png": "[encoded data removed]",
      "text/plain": [
       "<Figure size 432x288 with 1 Axes>"
      ]
     },
     "metadata": {
      "needs_background": "light"
     },
     "output_type": "display_data"
    }
   ],
   "source": [
    "# find cumfreq\n",
    "C,_,_,_ = cumfreq(y_bt709_linear.flatten(),1024,(0,1024))\n",
    "print(np.max(y_bt709_linear),np.min(y_bt709_linear))\n",
    "B_upper_index = (np.abs(C - B_upper)).argmin()\n",
    "B_lower_index = (np.abs(C - B_lower)).argmin()\n",
    "\n",
    "plt.plot(np.arange(0,1024),C)\n"
   ]
  },
  {
   "cell_type": "code",
   "execution_count": 19,
   "metadata": {},
   "outputs": [
    {
     "name": "stdout",
     "output_type": "stream",
     "text": [
      "0 402\n",
      "0.0493321740031 402.0\n",
      "4.64858532088e-05 0.274744601518\n"
     ]
    }
   ],
   "source": [
    "# clamping vals\n",
    "hdr_lower = hdr_range[B_lower_index]\n",
    "hdr_upper = hdr_range[B_upper_index]\n",
    "print(hdr_lower,hdr_upper)\n",
    "y_bt709_linear_clipped = np.clip(y_bt709_linear,hdr_lower,hdr_upper)\n",
    "print(np.min(y_bt709_linear_clipped),np.max(y_bt709_linear_clipped))\n",
    "y_bt709_linear_clipped = y_bt709_linear_clipped-hdr_lower\n",
    "#    y_bt709_linear_clipped = (y_bt709_linear_clipped-hdr_lower)*255/(hdr_upper-hdr_lower)\n",
    "#    print(np.min(y_bt709_linear_clipped),np.max(y_bt709_linear_clipped))\n",
    "\n",
    "# find current parameters for frame\n",
    "L_av = gmean(y_bt709_linear_clipped,None)\n",
    "Lmax = np.max(y_bt709_linear_clipped)\n",
    "Lmin = np.min(y_bt709_linear_clipped)\n",
    "A = Lmax-L_av\n",
    "B = L_av-Lmin\n",
    "a = 0.18*2**(2*(B-A)/(B+A))\n",
    "\n",
    "\n",
    "# apply tonemap\n",
    "lwhite_sq = hdr_upper**2 \n",
    "image = a*y_bt709_linear_clipped/L_av\n",
    "y_bt709_tonemapped_linear = image*(1+image/lwhite_sq)/(1+image)\n",
    "print(np.min(y_bt709_tonemapped_linear),np.max(y_bt709_tonemapped_linear))\n"
   ]
  },
  {
   "cell_type": "code",
   "execution_count": 22,
   "metadata": {},
   "outputs": [
    {
     "data": {
      "text/plain": [
       "<matplotlib.collections.PathCollection at 0x7fddc10bdc90>"
      ]
     },
     "execution_count": 22,
     "metadata": {},
     "output_type": "execute_result"
    },
    {
     "data": {
      "image/png": "[encoded data removed]",
      "text/plain": [
       "<Figure size 432x288 with 1 Axes>"
      ]
     },
     "metadata": {
      "needs_background": "light"
     },
     "output_type": "display_data"
    }
   ],
   "source": [
    "plt.plot(y_bt709_linear_clipped.flatten())"
   ]
  },
  {
   "cell_type": "code",
   "execution_count": null,
   "metadata": {},
   "outputs": [],
   "source": []
  }
 ],
 "metadata": {
  "kernelspec": {
   "display_name": "Python [conda env:myenv] *",
   "language": "python",
   "name": "conda-env-myenv-py"
  },
  "language_info": {
   "codemirror_mode": {
    "name": "ipython",
    "version": 3
   },
   "file_extension": ".py",
   "mimetype": "text/x-python",
   "name": "python",
   "nbconvert_exporter": "python",
   "pygments_lexer": "ipython3",
   "version": "3.7.7"
  }
 },
 "nbformat": 4,
 "nbformat_minor": 4
}
